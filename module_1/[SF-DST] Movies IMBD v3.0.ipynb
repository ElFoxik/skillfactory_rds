{
 "cells": [
  {
   "cell_type": "code",
   "execution_count": 27,
   "metadata": {
    "_cell_guid": "b1076dfc-b9ad-4769-8c92-a6c4dae69d19",
    "_uuid": "8f2839f25d086af736a60e9eeb907d3b93b6e0e5"
   },
   "outputs": [
    {
     "name": "stdout",
     "output_type": "stream",
     "text": [
      "['.ipynb_checkpoints', 'imbd-sf']\n"
     ]
    }
   ],
   "source": [
    "import numpy as np\n",
    "import pandas as pd\n",
    "import seaborn as sns\n",
    "import matplotlib.pyplot as plt\n",
    "import os\n",
    "from collections import Counter\n",
    "print(os.listdir(\"../input\"))"
   ]
  },
  {
   "cell_type": "code",
   "execution_count": 61,
   "metadata": {},
   "outputs": [
    {
     "data": {
      "text/html": [
       "<div>\n",
       "<style scoped>\n",
       "    .dataframe tbody tr th:only-of-type {\n",
       "        vertical-align: middle;\n",
       "    }\n",
       "\n",
       "    .dataframe tbody tr th {\n",
       "        vertical-align: top;\n",
       "    }\n",
       "\n",
       "    .dataframe thead th {\n",
       "        text-align: right;\n",
       "    }\n",
       "</style>\n",
       "<table border=\"1\" class=\"dataframe\">\n",
       "  <thead>\n",
       "    <tr style=\"text-align: right;\">\n",
       "      <th></th>\n",
       "      <th>imdb_id</th>\n",
       "      <th>popularity</th>\n",
       "      <th>budget</th>\n",
       "      <th>revenue</th>\n",
       "      <th>original_title</th>\n",
       "      <th>cast</th>\n",
       "      <th>director</th>\n",
       "      <th>tagline</th>\n",
       "      <th>overview</th>\n",
       "      <th>runtime</th>\n",
       "      <th>genres</th>\n",
       "      <th>production_companies</th>\n",
       "      <th>release_date</th>\n",
       "      <th>vote_count</th>\n",
       "      <th>vote_average</th>\n",
       "      <th>release_year</th>\n",
       "    </tr>\n",
       "  </thead>\n",
       "  <tbody>\n",
       "    <tr>\n",
       "      <td>0</td>\n",
       "      <td>tt0369610</td>\n",
       "      <td>32.985763</td>\n",
       "      <td>150000000</td>\n",
       "      <td>1513528810</td>\n",
       "      <td>Jurassic World</td>\n",
       "      <td>Chris Pratt|Bryce Dallas Howard|Irrfan Khan|Vi...</td>\n",
       "      <td>Colin Trevorrow</td>\n",
       "      <td>The park is open.</td>\n",
       "      <td>Twenty-two years after the events of Jurassic ...</td>\n",
       "      <td>124</td>\n",
       "      <td>Action|Adventure|Science Fiction|Thriller</td>\n",
       "      <td>Universal Studios|Amblin Entertainment|Legenda...</td>\n",
       "      <td>6/9/2015</td>\n",
       "      <td>5562</td>\n",
       "      <td>6.5</td>\n",
       "      <td>2015</td>\n",
       "    </tr>\n",
       "    <tr>\n",
       "      <td>1</td>\n",
       "      <td>tt1392190</td>\n",
       "      <td>28.419936</td>\n",
       "      <td>150000000</td>\n",
       "      <td>378436354</td>\n",
       "      <td>Mad Max: Fury Road</td>\n",
       "      <td>Tom Hardy|Charlize Theron|Hugh Keays-Byrne|Nic...</td>\n",
       "      <td>George Miller</td>\n",
       "      <td>What a Lovely Day.</td>\n",
       "      <td>An apocalyptic story set in the furthest reach...</td>\n",
       "      <td>120</td>\n",
       "      <td>Action|Adventure|Science Fiction|Thriller</td>\n",
       "      <td>Village Roadshow Pictures|Kennedy Miller Produ...</td>\n",
       "      <td>5/13/2015</td>\n",
       "      <td>6185</td>\n",
       "      <td>7.1</td>\n",
       "      <td>2015</td>\n",
       "    </tr>\n",
       "    <tr>\n",
       "      <td>2</td>\n",
       "      <td>tt2908446</td>\n",
       "      <td>13.112507</td>\n",
       "      <td>110000000</td>\n",
       "      <td>295238201</td>\n",
       "      <td>Insurgent</td>\n",
       "      <td>Shailene Woodley|Theo James|Kate Winslet|Ansel...</td>\n",
       "      <td>Robert Schwentke</td>\n",
       "      <td>One Choice Can Destroy You</td>\n",
       "      <td>Beatrice Prior must confront her inner demons ...</td>\n",
       "      <td>119</td>\n",
       "      <td>Adventure|Science Fiction|Thriller</td>\n",
       "      <td>Summit Entertainment|Mandeville Films|Red Wago...</td>\n",
       "      <td>3/18/2015</td>\n",
       "      <td>2480</td>\n",
       "      <td>6.3</td>\n",
       "      <td>2015</td>\n",
       "    </tr>\n",
       "    <tr>\n",
       "      <td>3</td>\n",
       "      <td>tt2488496</td>\n",
       "      <td>11.173104</td>\n",
       "      <td>200000000</td>\n",
       "      <td>2068178225</td>\n",
       "      <td>Star Wars: The Force Awakens</td>\n",
       "      <td>Harrison Ford|Mark Hamill|Carrie Fisher|Adam D...</td>\n",
       "      <td>J.J. Abrams</td>\n",
       "      <td>Every generation has a story.</td>\n",
       "      <td>Thirty years after defeating the Galactic Empi...</td>\n",
       "      <td>136</td>\n",
       "      <td>Action|Adventure|Science Fiction|Fantasy</td>\n",
       "      <td>Lucasfilm|Truenorth Productions|Bad Robot</td>\n",
       "      <td>12/15/2015</td>\n",
       "      <td>5292</td>\n",
       "      <td>7.5</td>\n",
       "      <td>2015</td>\n",
       "    </tr>\n",
       "    <tr>\n",
       "      <td>4</td>\n",
       "      <td>tt2820852</td>\n",
       "      <td>9.335014</td>\n",
       "      <td>190000000</td>\n",
       "      <td>1506249360</td>\n",
       "      <td>Furious 7</td>\n",
       "      <td>Vin Diesel|Paul Walker|Jason Statham|Michelle ...</td>\n",
       "      <td>James Wan</td>\n",
       "      <td>Vengeance Hits Home</td>\n",
       "      <td>Deckard Shaw seeks revenge against Dominic Tor...</td>\n",
       "      <td>137</td>\n",
       "      <td>Action|Crime|Thriller</td>\n",
       "      <td>Universal Pictures|Original Film|Media Rights ...</td>\n",
       "      <td>4/1/2015</td>\n",
       "      <td>2947</td>\n",
       "      <td>7.3</td>\n",
       "      <td>2015</td>\n",
       "    </tr>\n",
       "    <tr>\n",
       "      <td>5</td>\n",
       "      <td>tt1663202</td>\n",
       "      <td>9.110700</td>\n",
       "      <td>135000000</td>\n",
       "      <td>532950503</td>\n",
       "      <td>The Revenant</td>\n",
       "      <td>Leonardo DiCaprio|Tom Hardy|Will Poulter|Domhn...</td>\n",
       "      <td>Alejandro GonzÃ¡lez IÃ±Ã¡rritu</td>\n",
       "      <td>(n. One who has returned, as if from the dead.)</td>\n",
       "      <td>In the 1820s, a frontiersman, Hugh Glass, sets...</td>\n",
       "      <td>156</td>\n",
       "      <td>Western|Drama|Adventure|Thriller</td>\n",
       "      <td>Regency Enterprises|Appian Way|CatchPlay|Anony...</td>\n",
       "      <td>12/25/2015</td>\n",
       "      <td>3929</td>\n",
       "      <td>7.2</td>\n",
       "      <td>2015</td>\n",
       "    </tr>\n",
       "    <tr>\n",
       "      <td>6</td>\n",
       "      <td>tt1340138</td>\n",
       "      <td>8.654359</td>\n",
       "      <td>155000000</td>\n",
       "      <td>440603537</td>\n",
       "      <td>Terminator Genisys</td>\n",
       "      <td>Arnold Schwarzenegger|Jason Clarke|Emilia Clar...</td>\n",
       "      <td>Alan Taylor</td>\n",
       "      <td>Reset the future</td>\n",
       "      <td>The year is 2029. John Connor, leader of the r...</td>\n",
       "      <td>125</td>\n",
       "      <td>Science Fiction|Action|Thriller|Adventure</td>\n",
       "      <td>Paramount Pictures|Skydance Productions</td>\n",
       "      <td>6/23/2015</td>\n",
       "      <td>2598</td>\n",
       "      <td>5.8</td>\n",
       "      <td>2015</td>\n",
       "    </tr>\n",
       "    <tr>\n",
       "      <td>7</td>\n",
       "      <td>tt3659388</td>\n",
       "      <td>7.667400</td>\n",
       "      <td>108000000</td>\n",
       "      <td>595380321</td>\n",
       "      <td>The Martian</td>\n",
       "      <td>Matt Damon|Jessica Chastain|Kristen Wiig|Jeff ...</td>\n",
       "      <td>Ridley Scott</td>\n",
       "      <td>Bring Him Home</td>\n",
       "      <td>During a manned mission to Mars, Astronaut Mar...</td>\n",
       "      <td>141</td>\n",
       "      <td>Drama|Adventure|Science Fiction</td>\n",
       "      <td>Twentieth Century Fox Film Corporation|Scott F...</td>\n",
       "      <td>9/30/2015</td>\n",
       "      <td>4572</td>\n",
       "      <td>7.6</td>\n",
       "      <td>2015</td>\n",
       "    </tr>\n",
       "    <tr>\n",
       "      <td>8</td>\n",
       "      <td>tt2293640</td>\n",
       "      <td>7.404165</td>\n",
       "      <td>74000000</td>\n",
       "      <td>1156730962</td>\n",
       "      <td>Minions</td>\n",
       "      <td>Sandra Bullock|Jon Hamm|Michael Keaton|Allison...</td>\n",
       "      <td>Kyle Balda|Pierre Coffin</td>\n",
       "      <td>Before Gru, they had a history of bad bosses</td>\n",
       "      <td>Minions Stuart, Kevin and Bob are recruited by...</td>\n",
       "      <td>91</td>\n",
       "      <td>Family|Animation|Adventure|Comedy</td>\n",
       "      <td>Universal Pictures|Illumination Entertainment</td>\n",
       "      <td>6/17/2015</td>\n",
       "      <td>2893</td>\n",
       "      <td>6.5</td>\n",
       "      <td>2015</td>\n",
       "    </tr>\n",
       "    <tr>\n",
       "      <td>9</td>\n",
       "      <td>tt2096673</td>\n",
       "      <td>6.326804</td>\n",
       "      <td>175000000</td>\n",
       "      <td>853708609</td>\n",
       "      <td>Inside Out</td>\n",
       "      <td>Amy Poehler|Phyllis Smith|Richard Kind|Bill Ha...</td>\n",
       "      <td>Pete Docter</td>\n",
       "      <td>Meet the little voices inside your head.</td>\n",
       "      <td>Growing up can be a bumpy road, and it's no ex...</td>\n",
       "      <td>94</td>\n",
       "      <td>Comedy|Animation|Family</td>\n",
       "      <td>Walt Disney Pictures|Pixar Animation Studios|W...</td>\n",
       "      <td>6/9/2015</td>\n",
       "      <td>3935</td>\n",
       "      <td>8.0</td>\n",
       "      <td>2015</td>\n",
       "    </tr>\n",
       "    <tr>\n",
       "      <td>10</td>\n",
       "      <td>tt2379713</td>\n",
       "      <td>6.200282</td>\n",
       "      <td>245000000</td>\n",
       "      <td>880674609</td>\n",
       "      <td>Spectre</td>\n",
       "      <td>Daniel Craig|Christoph Waltz|LÃ©a Seydoux|Ralp...</td>\n",
       "      <td>Sam Mendes</td>\n",
       "      <td>A Plan No One Escapes</td>\n",
       "      <td>A cryptic message from Bondâ€™s past sends him...</td>\n",
       "      <td>148</td>\n",
       "      <td>Action|Adventure|Crime</td>\n",
       "      <td>Columbia Pictures|Danjaq|B24</td>\n",
       "      <td>10/26/2015</td>\n",
       "      <td>3254</td>\n",
       "      <td>6.2</td>\n",
       "      <td>2015</td>\n",
       "    </tr>\n",
       "    <tr>\n",
       "      <td>11</td>\n",
       "      <td>tt1617661</td>\n",
       "      <td>6.189369</td>\n",
       "      <td>176000003</td>\n",
       "      <td>183987723</td>\n",
       "      <td>Jupiter Ascending</td>\n",
       "      <td>Mila Kunis|Channing Tatum|Sean Bean|Eddie Redm...</td>\n",
       "      <td>Lana Wachowski|Lilly Wachowski</td>\n",
       "      <td>Expand your universe.</td>\n",
       "      <td>In a universe where human genetic material is ...</td>\n",
       "      <td>124</td>\n",
       "      <td>Science Fiction|Fantasy|Action|Adventure</td>\n",
       "      <td>Village Roadshow Pictures|Dune Entertainment|A...</td>\n",
       "      <td>2/4/2015</td>\n",
       "      <td>1937</td>\n",
       "      <td>5.2</td>\n",
       "      <td>2015</td>\n",
       "    </tr>\n",
       "    <tr>\n",
       "      <td>12</td>\n",
       "      <td>tt0470752</td>\n",
       "      <td>6.118847</td>\n",
       "      <td>15000000</td>\n",
       "      <td>36869414</td>\n",
       "      <td>Ex Machina</td>\n",
       "      <td>Domhnall Gleeson|Alicia Vikander|Oscar Isaac|S...</td>\n",
       "      <td>Alex Garland</td>\n",
       "      <td>There is nothing more human than the will to s...</td>\n",
       "      <td>Caleb, a 26 year old coder at the world's larg...</td>\n",
       "      <td>108</td>\n",
       "      <td>Drama|Science Fiction</td>\n",
       "      <td>DNA Films|Universal Pictures International (UP...</td>\n",
       "      <td>1/21/2015</td>\n",
       "      <td>2854</td>\n",
       "      <td>7.6</td>\n",
       "      <td>2015</td>\n",
       "    </tr>\n",
       "    <tr>\n",
       "      <td>13</td>\n",
       "      <td>tt2120120</td>\n",
       "      <td>5.984995</td>\n",
       "      <td>88000000</td>\n",
       "      <td>243637091</td>\n",
       "      <td>Pixels</td>\n",
       "      <td>Adam Sandler|Michelle Monaghan|Peter Dinklage|...</td>\n",
       "      <td>Chris Columbus</td>\n",
       "      <td>Game On.</td>\n",
       "      <td>Video game experts are recruited by the milita...</td>\n",
       "      <td>105</td>\n",
       "      <td>Action|Comedy|Science Fiction</td>\n",
       "      <td>Columbia Pictures|Happy Madison Productions</td>\n",
       "      <td>7/16/2015</td>\n",
       "      <td>1575</td>\n",
       "      <td>5.8</td>\n",
       "      <td>2015</td>\n",
       "    </tr>\n",
       "    <tr>\n",
       "      <td>14</td>\n",
       "      <td>tt2395427</td>\n",
       "      <td>5.944927</td>\n",
       "      <td>280000000</td>\n",
       "      <td>1405035767</td>\n",
       "      <td>Avengers: Age of Ultron</td>\n",
       "      <td>Robert Downey Jr.|Chris Hemsworth|Mark Ruffalo...</td>\n",
       "      <td>Joss Whedon</td>\n",
       "      <td>A New Age Has Come.</td>\n",
       "      <td>When Tony Stark tries to jumpstart a dormant p...</td>\n",
       "      <td>141</td>\n",
       "      <td>Action|Adventure|Science Fiction</td>\n",
       "      <td>Marvel Studios|Prime Focus|Revolution Sun Studios</td>\n",
       "      <td>4/22/2015</td>\n",
       "      <td>4304</td>\n",
       "      <td>7.4</td>\n",
       "      <td>2015</td>\n",
       "    </tr>\n",
       "  </tbody>\n",
       "</table>\n",
       "</div>"
      ],
      "text/plain": [
       "      imdb_id  popularity     budget     revenue  \\\n",
       "0   tt0369610   32.985763  150000000  1513528810   \n",
       "1   tt1392190   28.419936  150000000   378436354   \n",
       "2   tt2908446   13.112507  110000000   295238201   \n",
       "3   tt2488496   11.173104  200000000  2068178225   \n",
       "4   tt2820852    9.335014  190000000  1506249360   \n",
       "5   tt1663202    9.110700  135000000   532950503   \n",
       "6   tt1340138    8.654359  155000000   440603537   \n",
       "7   tt3659388    7.667400  108000000   595380321   \n",
       "8   tt2293640    7.404165   74000000  1156730962   \n",
       "9   tt2096673    6.326804  175000000   853708609   \n",
       "10  tt2379713    6.200282  245000000   880674609   \n",
       "11  tt1617661    6.189369  176000003   183987723   \n",
       "12  tt0470752    6.118847   15000000    36869414   \n",
       "13  tt2120120    5.984995   88000000   243637091   \n",
       "14  tt2395427    5.944927  280000000  1405035767   \n",
       "\n",
       "                  original_title  \\\n",
       "0                 Jurassic World   \n",
       "1             Mad Max: Fury Road   \n",
       "2                      Insurgent   \n",
       "3   Star Wars: The Force Awakens   \n",
       "4                      Furious 7   \n",
       "5                   The Revenant   \n",
       "6             Terminator Genisys   \n",
       "7                    The Martian   \n",
       "8                        Minions   \n",
       "9                     Inside Out   \n",
       "10                       Spectre   \n",
       "11             Jupiter Ascending   \n",
       "12                    Ex Machina   \n",
       "13                        Pixels   \n",
       "14       Avengers: Age of Ultron   \n",
       "\n",
       "                                                 cast  \\\n",
       "0   Chris Pratt|Bryce Dallas Howard|Irrfan Khan|Vi...   \n",
       "1   Tom Hardy|Charlize Theron|Hugh Keays-Byrne|Nic...   \n",
       "2   Shailene Woodley|Theo James|Kate Winslet|Ansel...   \n",
       "3   Harrison Ford|Mark Hamill|Carrie Fisher|Adam D...   \n",
       "4   Vin Diesel|Paul Walker|Jason Statham|Michelle ...   \n",
       "5   Leonardo DiCaprio|Tom Hardy|Will Poulter|Domhn...   \n",
       "6   Arnold Schwarzenegger|Jason Clarke|Emilia Clar...   \n",
       "7   Matt Damon|Jessica Chastain|Kristen Wiig|Jeff ...   \n",
       "8   Sandra Bullock|Jon Hamm|Michael Keaton|Allison...   \n",
       "9   Amy Poehler|Phyllis Smith|Richard Kind|Bill Ha...   \n",
       "10  Daniel Craig|Christoph Waltz|LÃ©a Seydoux|Ralp...   \n",
       "11  Mila Kunis|Channing Tatum|Sean Bean|Eddie Redm...   \n",
       "12  Domhnall Gleeson|Alicia Vikander|Oscar Isaac|S...   \n",
       "13  Adam Sandler|Michelle Monaghan|Peter Dinklage|...   \n",
       "14  Robert Downey Jr.|Chris Hemsworth|Mark Ruffalo...   \n",
       "\n",
       "                          director  \\\n",
       "0                  Colin Trevorrow   \n",
       "1                    George Miller   \n",
       "2                 Robert Schwentke   \n",
       "3                      J.J. Abrams   \n",
       "4                        James Wan   \n",
       "5   Alejandro GonzÃ¡lez IÃ±Ã¡rritu   \n",
       "6                      Alan Taylor   \n",
       "7                     Ridley Scott   \n",
       "8         Kyle Balda|Pierre Coffin   \n",
       "9                      Pete Docter   \n",
       "10                      Sam Mendes   \n",
       "11  Lana Wachowski|Lilly Wachowski   \n",
       "12                    Alex Garland   \n",
       "13                  Chris Columbus   \n",
       "14                     Joss Whedon   \n",
       "\n",
       "                                              tagline  \\\n",
       "0                                   The park is open.   \n",
       "1                                  What a Lovely Day.   \n",
       "2                          One Choice Can Destroy You   \n",
       "3                       Every generation has a story.   \n",
       "4                                 Vengeance Hits Home   \n",
       "5     (n. One who has returned, as if from the dead.)   \n",
       "6                                    Reset the future   \n",
       "7                                      Bring Him Home   \n",
       "8        Before Gru, they had a history of bad bosses   \n",
       "9            Meet the little voices inside your head.   \n",
       "10                              A Plan No One Escapes   \n",
       "11                              Expand your universe.   \n",
       "12  There is nothing more human than the will to s...   \n",
       "13                                           Game On.   \n",
       "14                                A New Age Has Come.   \n",
       "\n",
       "                                             overview  runtime  \\\n",
       "0   Twenty-two years after the events of Jurassic ...      124   \n",
       "1   An apocalyptic story set in the furthest reach...      120   \n",
       "2   Beatrice Prior must confront her inner demons ...      119   \n",
       "3   Thirty years after defeating the Galactic Empi...      136   \n",
       "4   Deckard Shaw seeks revenge against Dominic Tor...      137   \n",
       "5   In the 1820s, a frontiersman, Hugh Glass, sets...      156   \n",
       "6   The year is 2029. John Connor, leader of the r...      125   \n",
       "7   During a manned mission to Mars, Astronaut Mar...      141   \n",
       "8   Minions Stuart, Kevin and Bob are recruited by...       91   \n",
       "9   Growing up can be a bumpy road, and it's no ex...       94   \n",
       "10  A cryptic message from Bondâ€™s past sends him...      148   \n",
       "11  In a universe where human genetic material is ...      124   \n",
       "12  Caleb, a 26 year old coder at the world's larg...      108   \n",
       "13  Video game experts are recruited by the milita...      105   \n",
       "14  When Tony Stark tries to jumpstart a dormant p...      141   \n",
       "\n",
       "                                       genres  \\\n",
       "0   Action|Adventure|Science Fiction|Thriller   \n",
       "1   Action|Adventure|Science Fiction|Thriller   \n",
       "2          Adventure|Science Fiction|Thriller   \n",
       "3    Action|Adventure|Science Fiction|Fantasy   \n",
       "4                       Action|Crime|Thriller   \n",
       "5            Western|Drama|Adventure|Thriller   \n",
       "6   Science Fiction|Action|Thriller|Adventure   \n",
       "7             Drama|Adventure|Science Fiction   \n",
       "8           Family|Animation|Adventure|Comedy   \n",
       "9                     Comedy|Animation|Family   \n",
       "10                     Action|Adventure|Crime   \n",
       "11   Science Fiction|Fantasy|Action|Adventure   \n",
       "12                      Drama|Science Fiction   \n",
       "13              Action|Comedy|Science Fiction   \n",
       "14           Action|Adventure|Science Fiction   \n",
       "\n",
       "                                 production_companies release_date  \\\n",
       "0   Universal Studios|Amblin Entertainment|Legenda...     6/9/2015   \n",
       "1   Village Roadshow Pictures|Kennedy Miller Produ...    5/13/2015   \n",
       "2   Summit Entertainment|Mandeville Films|Red Wago...    3/18/2015   \n",
       "3           Lucasfilm|Truenorth Productions|Bad Robot   12/15/2015   \n",
       "4   Universal Pictures|Original Film|Media Rights ...     4/1/2015   \n",
       "5   Regency Enterprises|Appian Way|CatchPlay|Anony...   12/25/2015   \n",
       "6             Paramount Pictures|Skydance Productions    6/23/2015   \n",
       "7   Twentieth Century Fox Film Corporation|Scott F...    9/30/2015   \n",
       "8       Universal Pictures|Illumination Entertainment    6/17/2015   \n",
       "9   Walt Disney Pictures|Pixar Animation Studios|W...     6/9/2015   \n",
       "10                       Columbia Pictures|Danjaq|B24   10/26/2015   \n",
       "11  Village Roadshow Pictures|Dune Entertainment|A...     2/4/2015   \n",
       "12  DNA Films|Universal Pictures International (UP...    1/21/2015   \n",
       "13        Columbia Pictures|Happy Madison Productions    7/16/2015   \n",
       "14  Marvel Studios|Prime Focus|Revolution Sun Studios    4/22/2015   \n",
       "\n",
       "    vote_count  vote_average  release_year  \n",
       "0         5562           6.5          2015  \n",
       "1         6185           7.1          2015  \n",
       "2         2480           6.3          2015  \n",
       "3         5292           7.5          2015  \n",
       "4         2947           7.3          2015  \n",
       "5         3929           7.2          2015  \n",
       "6         2598           5.8          2015  \n",
       "7         4572           7.6          2015  \n",
       "8         2893           6.5          2015  \n",
       "9         3935           8.0          2015  \n",
       "10        3254           6.2          2015  \n",
       "11        1937           5.2          2015  \n",
       "12        2854           7.6          2015  \n",
       "13        1575           5.8          2015  \n",
       "14        4304           7.4          2015  "
      ]
     },
     "execution_count": 61,
     "metadata": {},
     "output_type": "execute_result"
    }
   ],
   "source": [
    "data = pd.read_csv('../input/imbd-sf/data.csv')\n",
    "data.head(15)"
   ]
  },
  {
   "cell_type": "code",
   "execution_count": 62,
   "metadata": {},
   "outputs": [],
   "source": [
    "len(data)\n",
    "def max_search(search_dict):\n",
    "    max_is_set = False\n",
    "    for key in search_dict:\n",
    "        if max_is_set == False:\n",
    "            max_key = key\n",
    "            max_value = search_dict[key]\n",
    "            max_is_set = True\n",
    "        if search_dict[key] > max_value:\n",
    "            max_value = search_dict[key]\n",
    "            max_key = key\n",
    "    return (max_value, max_key)"
   ]
  },
  {
   "cell_type": "markdown",
   "metadata": {},
   "source": [
    "# Предобработка датасета"
   ]
  },
  {
   "cell_type": "code",
   "execution_count": 63,
   "metadata": {},
   "outputs": [],
   "source": [
    "answer_ls = [] # создадим список с ответами. сюда будем добавлять ответы по мере прохождения теста\n",
    "# сюда можем вписать создание новых колонок в датасете"
   ]
  },
  {
   "cell_type": "markdown",
   "metadata": {},
   "source": [
    "# 1. У какого фильма из списка самый большой бюджет?\n",
    "Варианты ответов:\n",
    "1. The Dark Knight Rises (tt1345836)\n",
    "2. Spider-Man 3 (tt0413300)\n",
    "3. Avengers: Age of Ultron (tt2395427)\n",
    "4. The Warrior's Way\t(tt1032751)\n",
    "5. Pirates of the Caribbean: On Stranger Tides (tt1298650)"
   ]
  },
  {
   "cell_type": "code",
   "execution_count": 65,
   "metadata": {},
   "outputs": [],
   "source": [
    "# тут вводим ваш ответ и добавлем в его список ответов (сейчас для примера стоит \"1\")\n",
    "data[data['budget'] == data['budget'].max()]\n",
    "answer_ls.append(4)"
   ]
  },
  {
   "cell_type": "markdown",
   "metadata": {},
   "source": [
    "# 2. Какой из фильмов самый длительный (в минутах)\n",
    "1. The Lord of the Rings: The Return of the King\t(tt0167260)\n",
    "2. Gods and Generals\t(tt0279111)\n",
    "3. King Kong\t(tt0360717)\n",
    "4. Pearl Harbor\t(tt0213149)\n",
    "5. Alexander\t(tt0346491)"
   ]
  },
  {
   "cell_type": "code",
   "execution_count": 67,
   "metadata": {},
   "outputs": [],
   "source": [
    "data[data['runtime'] == data['runtime'].max()]\n",
    "answer_ls.append(2)"
   ]
  },
  {
   "cell_type": "markdown",
   "metadata": {},
   "source": [
    "# 3. Какой из фильмов самый короткий (в минутах)\n",
    "Варианты ответов:\n",
    "\n",
    "1. Home on the Range\ttt0299172\n",
    "2. The Jungle Book 2\ttt0283426\n",
    "3. Winnie the Pooh\ttt1449283\n",
    "4. Corpse Bride\ttt0121164\n",
    "5. Hoodwinked!\ttt0443536"
   ]
  },
  {
   "cell_type": "code",
   "execution_count": 69,
   "metadata": {},
   "outputs": [],
   "source": [
    "data[data['runtime'] == data['runtime'].min()]\n",
    "answer_ls.append(3)"
   ]
  },
  {
   "cell_type": "markdown",
   "metadata": {},
   "source": [
    "# 4. Средняя длительность фильма?\n",
    "\n",
    "Варианты ответов:\n",
    "1. 115\n",
    "2. 110\n",
    "3. 105\n",
    "4. 120\n",
    "5. 100\n"
   ]
  },
  {
   "cell_type": "code",
   "execution_count": 71,
   "metadata": {},
   "outputs": [],
   "source": [
    "data['runtime'].mean()\n",
    "answer_ls.append(2)"
   ]
  },
  {
   "cell_type": "markdown",
   "metadata": {},
   "source": [
    "# 5. Средняя длительность фильма по медиане?\n",
    "Варианты ответов:\n",
    "1. 106\n",
    "2. 112\n",
    "3. 101\n",
    "4. 120\n",
    "5. 115\n",
    "\n",
    "\n"
   ]
  },
  {
   "cell_type": "code",
   "execution_count": 73,
   "metadata": {},
   "outputs": [],
   "source": [
    "data['runtime'].describe()\n",
    "answer_ls.append(1)"
   ]
  },
  {
   "cell_type": "markdown",
   "metadata": {},
   "source": [
    "# 6. Какой самый прибыльный фильм?\n",
    "Варианты ответов:\n",
    "1. The Avengers\ttt0848228\n",
    "2. Minions\ttt2293640\n",
    "3. Star Wars: The Force Awakens\ttt2488496\n",
    "4. Furious 7\ttt2820852\n",
    "5. Avatar\ttt0499549"
   ]
  },
  {
   "cell_type": "code",
   "execution_count": 75,
   "metadata": {},
   "outputs": [],
   "source": [
    "data['profit']=data['revenue']-data['budget']\n",
    "data[data['profit'] == data['profit'].max()]\n",
    "answer_ls.append(5)"
   ]
  },
  {
   "cell_type": "markdown",
   "metadata": {},
   "source": [
    "# 7. Какой фильм самый убыточный?\n",
    "Варианты ответов:\n",
    "1. Supernova tt0134983\n",
    "2. The Warrior's Way tt1032751\n",
    "3. Flushed Away\ttt0424095\n",
    "4. The Adventures of Pluto Nash\ttt0180052\n",
    "5. The Lone Ranger\ttt1210819"
   ]
  },
  {
   "cell_type": "code",
   "execution_count": 77,
   "metadata": {},
   "outputs": [],
   "source": [
    "data[data['profit'] == data['profit'].min()]\n",
    "answer_ls.append(2)"
   ]
  },
  {
   "cell_type": "markdown",
   "metadata": {},
   "source": [
    "# 8. Сколько всего фильмов в прибыли?\n",
    "Варианты ответов:\n",
    "1. 1478\n",
    "2. 1520\n",
    "3. 1241\n",
    "4. 1135\n",
    "5. 1398\n"
   ]
  },
  {
   "cell_type": "code",
   "execution_count": 79,
   "metadata": {},
   "outputs": [],
   "source": [
    "data[data['profit']> 0].count()\n",
    "answer_ls.append(1)"
   ]
  },
  {
   "cell_type": "markdown",
   "metadata": {},
   "source": [
    "# 9. Самый прибыльный фильм в 2008 году?\n",
    "Варианты ответов:\n",
    "1. Madagascar: Escape 2 Africa\ttt0479952\n",
    "2. Iron Man\ttt0371746\n",
    "3. Kung Fu Panda\ttt0441773\n",
    "4. The Dark Knight\ttt0468569\n",
    "5. Mamma Mia!\ttt0795421"
   ]
  },
  {
   "cell_type": "code",
   "execution_count": 81,
   "metadata": {},
   "outputs": [],
   "source": [
    "data_2008 = data[data['release_year'] == 2008]\n",
    "data_2008[data_2008['profit'] == data_2008['profit'].max()]\n",
    "answer_ls.append(4)"
   ]
  },
  {
   "cell_type": "markdown",
   "metadata": {},
   "source": [
    "# 10. Самый убыточный фильм за период с 2012 по 2014 (включительно)?\n",
    "Варианты ответов:\n",
    "1. Winter's Tale\ttt1837709\n",
    "2. Stolen\ttt1656186\n",
    "3. Broken City\ttt1235522\n",
    "4. Upside Down\ttt1374992\n",
    "5. The Lone Ranger\ttt1210819\n"
   ]
  },
  {
   "cell_type": "code",
   "execution_count": 83,
   "metadata": {},
   "outputs": [],
   "source": [
    "data_12_14 = data.query('2012<=release_year<=2014')\n",
    "data_12_14[data_12_14['profit'] == data_12_14['profit'].min()]\n",
    "answer_ls.append(5)"
   ]
  },
  {
   "cell_type": "markdown",
   "metadata": {},
   "source": [
    "# 11. Какого жанра фильмов больше всего?\n",
    "Варианты ответов:\n",
    "1. Action\n",
    "2. Adventure\n",
    "3. Drama\n",
    "4. Comedy\n",
    "5. Thriller"
   ]
  },
  {
   "cell_type": "code",
   "execution_count": 86,
   "metadata": {},
   "outputs": [],
   "source": [
    "genres = data['genres']\n",
    "genres_dict = {}\n",
    "for i in range(0,len(genres),1):\n",
    "    film_genres = genres.loc[i].split('|')\n",
    "    for every_genres in film_genres:\n",
    "        if every_genres in genres_dict:\n",
    "            genres_dict[every_genres] += 1\n",
    "        else:\n",
    "            genres_dict[every_genres] = 1\n",
    "\n",
    "max_search(genres_dict)    \n",
    "answer_ls.append(3)"
   ]
  },
  {
   "cell_type": "markdown",
   "metadata": {},
   "source": [
    "# 12. Какого жанра среди прибыльных фильмов больше всего?\n",
    "Варианты ответов:\n",
    "1. Drama\n",
    "2. Comedy\n",
    "3. Action\n",
    "4. Thriller\n",
    "5. Adventure"
   ]
  },
  {
   "cell_type": "code",
   "execution_count": 89,
   "metadata": {},
   "outputs": [],
   "source": [
    "data_profit = data[data['profit']> 0].reset_index()\n",
    "genres = data_profit['genres']\n",
    "genres_dict = {}\n",
    "for i in range(0,len(genres),1):\n",
    "    film_genres = genres.loc[i].split('|')\n",
    "    for every_genres in film_genres:\n",
    "        if every_genres in genres_dict:\n",
    "            genres_dict[every_genres] += 1\n",
    "        else:\n",
    "            genres_dict[every_genres] = 1\n",
    "max_search(genres_dict)\n",
    "answer_ls.append(1)"
   ]
  },
  {
   "cell_type": "markdown",
   "metadata": {},
   "source": [
    "# 13. Кто из режиссеров снял больше всего фильмов?\n",
    "Варианты ответов:\n",
    "1. Steven Spielberg\n",
    "2. Ridley Scott \n",
    "3. Steven Soderbergh\n",
    "4. Christopher Nolan\n",
    "5. Clint Eastwood"
   ]
  },
  {
   "cell_type": "code",
   "execution_count": 92,
   "metadata": {},
   "outputs": [],
   "source": [
    "dirs_dict = {}\n",
    "for i in range(0,len(data),1):\n",
    "    film_dir = data['director'].loc[i].split('|')\n",
    "    for every_dir in film_dir:\n",
    "        if every_dir in dirs_dict:\n",
    "            dirs_dict[every_dir] += 1\n",
    "        else:\n",
    "            dirs_dict[every_dir] = 1\n",
    "max_search(dirs_dict)\n",
    "answer_ls.append(3)"
   ]
  },
  {
   "cell_type": "markdown",
   "metadata": {},
   "source": [
    "# 14. Кто из режиссеров снял больше всего Прибыльных фильмов?\n",
    "Варианты ответов:\n",
    "1. Steven Soderbergh\n",
    "2. Clint Eastwood\n",
    "3. Steven Spielberg\n",
    "4. Ridley Scott\n",
    "5. Christopher Nolan"
   ]
  },
  {
   "cell_type": "code",
   "execution_count": 95,
   "metadata": {},
   "outputs": [],
   "source": [
    "data['profit']=data['revenue']-data['budget']\n",
    "data_profit = data[data['profit']> 0].reset_index()\n",
    "dirs_dict = {}\n",
    "for i in range(0,len(data_profit),1):\n",
    "    film_dir = data_profit['director'].loc[i].split('|')\n",
    "    for every_dir in film_dir:\n",
    "        if every_dir in dirs_dict:\n",
    "            dirs_dict[every_dir] += 1\n",
    "        else:\n",
    "            dirs_dict[every_dir] = 1\n",
    "max_search (dirs_dict)\n",
    "answer_ls.append(4)"
   ]
  },
  {
   "cell_type": "markdown",
   "metadata": {},
   "source": [
    "# 15. Кто из режиссеров принес больше всего прибыли?\n",
    "Варианты ответов:\n",
    "1. Steven Spielberg\n",
    "2. Christopher Nolan\n",
    "3. David Yates\n",
    "4. James Cameron\n",
    "5. Peter Jackson\n"
   ]
  },
  {
   "cell_type": "code",
   "execution_count": 97,
   "metadata": {},
   "outputs": [],
   "source": [
    "dirs = data['director']\n",
    "dirs_dict = {}\n",
    "for i in range(0,len(data),1):\n",
    "    film_dir = data['director'].loc[i].split('|')\n",
    "    film_profit = data['profit'].loc[i]\n",
    "    for every_dir in film_dir:\n",
    "        if every_dir in dirs_dict:\n",
    "            dirs_dict[every_dir] += film_profit\n",
    "        else:\n",
    "            dirs_dict[every_dir] = film_profit\n",
    "max_search(dirs_dict)  \n",
    "answer_ls.append(5)"
   ]
  },
  {
   "cell_type": "markdown",
   "metadata": {},
   "source": [
    "# 16. Какой актер принес больше всего прибыли?\n",
    "Варианты ответов:\n",
    "1. Emma Watson\n",
    "2. Johnny Depp\n",
    "3. Michelle Rodriguez\n",
    "4. Orlando Bloom\n",
    "5. Rupert Grint"
   ]
  },
  {
   "cell_type": "code",
   "execution_count": 99,
   "metadata": {},
   "outputs": [],
   "source": [
    "casts = data['cast']\n",
    "cast_dict = {}\n",
    "for i in range(0,len(data),1):\n",
    "    film_casts = data['cast'].loc[i].split('|')\n",
    "    film_profit = data['profit'].loc[i]\n",
    "    for every_cast in film_casts:\n",
    "        if every_cast in cast_dict:\n",
    "            cast_dict[every_cast] += film_profit\n",
    "        else:\n",
    "            cast_dict[every_cast] = film_profit\n",
    "max_search(cast_dict)\n",
    "answer_ls.append(1)"
   ]
  },
  {
   "cell_type": "markdown",
   "metadata": {},
   "source": [
    "# 17. Какой актер принес меньше всего прибыли в 2012 году?\n",
    "Варианты ответов:\n",
    "1. Nicolas Cage\n",
    "2. Danny Huston\n",
    "3. Kirsten Dunst\n",
    "4. Jim Sturgess\n",
    "5. Sami Gayle"
   ]
  },
  {
   "cell_type": "code",
   "execution_count": 100,
   "metadata": {},
   "outputs": [
    {
     "name": "stdout",
     "output_type": "stream",
     "text": [
      "-68109207 Kirsten Dunst\n"
     ]
    }
   ],
   "source": [
    "data_12 = data[data['release_year'] == 2012].reset_index()\n",
    "casts = data_12['cast']\n",
    "cast_dict = {}\n",
    "for i in range(0,len(data_12),1):\n",
    "    film_casts = data_12['cast'].loc[i].split('|')\n",
    "    film_profit = data_12['profit'].loc[i]\n",
    "    for every_cast in film_casts:\n",
    "        if every_cast in cast_dict:\n",
    "            cast_dict[every_cast] += film_profit\n",
    "        else:\n",
    "            cast_dict[every_cast] = film_profit\n",
    "min_profit = data_12['profit'].sum()\n",
    "profit_cast = ''\n",
    "for key in cast_dict:\n",
    "    if cast_dict[key] < min_profit:\n",
    "        min_profit = cast_dict[key]\n",
    "        profit_cast = key  \n",
    "\n",
    "print (min_profit, profit_cast) \n",
    "answer_ls.append(3)"
   ]
  },
  {
   "cell_type": "markdown",
   "metadata": {},
   "source": [
    "# 18. Какой актер снялся в большем количестве высокобюджетных фильмов? (в фильмах где бюджет выше среднего по данной выборке)\n",
    "Варианты ответов:\n",
    "1. Tom Cruise\n",
    "2. Mark Wahlberg \n",
    "3. Matt Damon\n",
    "4. Angelina Jolie\n",
    "5. Adam Sandler"
   ]
  },
  {
   "cell_type": "code",
   "execution_count": 102,
   "metadata": {},
   "outputs": [],
   "source": [
    "mean_budget = data['budget'].mean()\n",
    "data_mean_budget = data[data['budget']> mean_budget].reset_index()\n",
    "cast_dict = {}\n",
    "for i in range(0,len(data_mean_budget),1):\n",
    "    film_casts = data_mean_budget['cast'].loc[i].split('|')\n",
    "    for every_cast in film_casts:\n",
    "        if every_cast in cast_dict:\n",
    "            cast_dict[every_cast] += 1\n",
    "        else:\n",
    "            cast_dict[every_cast] = 1\n",
    "max_search(cast_dict)\n",
    "answer_ls.append(3)"
   ]
  },
  {
   "cell_type": "markdown",
   "metadata": {},
   "source": [
    "# 19. В фильмах какого жанра больше всего снимался Nicolas Cage?  \n",
    "Варианты ответа:\n",
    "1. Drama\n",
    "2. Action\n",
    "3. Thriller\n",
    "4. Adventure\n",
    "5. Crime"
   ]
  },
  {
   "cell_type": "code",
   "execution_count": 104,
   "metadata": {},
   "outputs": [],
   "source": [
    "data_NC = data[data['cast'].str.contains(\"Nicolas Cage\")].reset_index()\n",
    "genres = data_NC['genres']\n",
    "genres_dict = {}\n",
    "for i in range(0,len(genres),1):\n",
    "    film_genres = genres.loc[i].split('|')\n",
    "    for every_genres in film_genres:\n",
    "        if every_genres in genres_dict:\n",
    "            genres_dict[every_genres] += 1\n",
    "        else:\n",
    "            genres_dict[every_genres] = 1\n",
    "max_search(genres_dict)\n",
    "answer_ls.append(2)"
   ]
  },
  {
   "cell_type": "markdown",
   "metadata": {},
   "source": [
    "# 20. Какая студия сняла больше всего фильмов?\n",
    "Варианты ответа:\n",
    "1. Universal Pictures (Universal)\n",
    "2. Paramount Pictures\n",
    "3. Columbia Pictures\n",
    "4. Warner Bros\n",
    "5. Twentieth Century Fox Film Corporation"
   ]
  },
  {
   "cell_type": "code",
   "execution_count": 106,
   "metadata": {},
   "outputs": [],
   "source": [
    "pc = data['production_companies']\n",
    "pc_dict = {}\n",
    "for i in range(0,len(pc),1):\n",
    "    film_pc = pc.loc[i].split('|')\n",
    "    for every_pc in film_pc:\n",
    "        if every_pc in pc_dict:\n",
    "            pc_dict[every_pc] += 1\n",
    "        else:\n",
    "            pc_dict[every_pc] = 1\n",
    "max_search(pc_dict)\n",
    "answer_ls.append(1)"
   ]
  },
  {
   "cell_type": "markdown",
   "metadata": {},
   "source": [
    "# 21. Какая студия сняла больше всего фильмов в 2015 году?\n",
    "Варианты ответа:\n",
    "1. Universal Pictures\n",
    "2. Paramount Pictures\n",
    "3. Columbia Pictures\n",
    "4. Warner Bros\n",
    "5. Twentieth Century Fox Film Corporation"
   ]
  },
  {
   "cell_type": "code",
   "execution_count": 108,
   "metadata": {},
   "outputs": [],
   "source": [
    "data_15 = data[data['release_year']==2015].reset_index()\n",
    "pc = data_15['production_companies']\n",
    "pc_dict = {}\n",
    "for i in range(0,len(pc),1):\n",
    "    film_pc = pc.loc[i].split('|')\n",
    "    for every_pc in film_pc:\n",
    "        if every_pc in pc_dict:\n",
    "            pc_dict[every_pc] += 1\n",
    "        else:\n",
    "            pc_dict[every_pc] = 1\n",
    "max_search(pc_dict)\n",
    "answer_ls.append(4)"
   ]
  },
  {
   "cell_type": "markdown",
   "metadata": {},
   "source": [
    "# 22. Какая студия заработала больше всего денег в жанре комедий за все время?\n",
    "Варианты ответа:\n",
    "1. Warner Bros\n",
    "2. Universal Pictures (Universal)\n",
    "3. Columbia Pictures\n",
    "4. Paramount Pictures\n",
    "5. Walt Disney"
   ]
  },
  {
   "cell_type": "code",
   "execution_count": 110,
   "metadata": {},
   "outputs": [],
   "source": [
    "data['profit']=data['revenue']-data['budget']\n",
    "data_comedy = data[data['genres'].str.contains(\"Comedy\")].reset_index()\n",
    "pc_dict = {}\n",
    "for i in range(0,len(data_comedy),1):\n",
    "    film_pc = data_comedy['production_companies'].loc[i].split('|')\n",
    "    film_profit = data_comedy['profit'].loc[i]\n",
    "    for every_pc in film_pc:\n",
    "        if every_pc in pc_dict:\n",
    "            pc_dict[every_pc] += film_profit\n",
    "        else:\n",
    "            pc_dict[every_pc] = film_profit\n",
    "max_search(pc_dict) \n",
    "answer_ls.append(2)"
   ]
  },
  {
   "cell_type": "markdown",
   "metadata": {},
   "source": [
    "# 23. Какая студия заработала больше всего денег в 2012 году?\n",
    "Варианты ответа:\n",
    "1. Universal Pictures (Universal)\n",
    "2. Warner Bros\n",
    "3. Columbia Pictures\n",
    "4. Paramount Pictures\n",
    "5. Lucasfilm"
   ]
  },
  {
   "cell_type": "code",
   "execution_count": 113,
   "metadata": {},
   "outputs": [],
   "source": [
    "data_12 = data[data['release_year'] == 2012].reset_index()\n",
    "pc_dict = {}\n",
    "for i in range(0,len(data_12),1):\n",
    "    film_pc = data_12['production_companies'].loc[i].split('|')\n",
    "    film_profit = data_12['profit'].loc[i]\n",
    "    for every_pc in film_pc:\n",
    "        if every_pc in pc_dict:\n",
    "            pc_dict[every_pc] += film_profit\n",
    "        else:\n",
    "            pc_dict[every_pc] = film_profit\n",
    "max_search(pc_dict)\n",
    "answer_ls.append(3)"
   ]
  },
  {
   "cell_type": "markdown",
   "metadata": {},
   "source": [
    "# 24. Самый убыточный фильм от Paramount Pictures\n",
    "Варианты ответа:\n",
    "\n",
    "1. K-19: The Widowmaker tt0267626\n",
    "2. Next tt0435705\n",
    "3. Twisted tt0315297\n",
    "4. The Love Guru tt0811138\n",
    "5. The Fighter tt0964517"
   ]
  },
  {
   "cell_type": "code",
   "execution_count": 115,
   "metadata": {},
   "outputs": [],
   "source": [
    "data_PP = data[data['production_companies'].str.contains('Paramount Pictures')].reset_index()\n",
    "min_profit = data_PP['profit'].min()\n",
    "data_PP[data_PP['profit'] == min_profit]\n",
    "answer_ls.append(1)"
   ]
  },
  {
   "cell_type": "markdown",
   "metadata": {},
   "source": [
    "# 25. Какой Самый прибыльный год (заработали больше всего)?\n",
    "Варианты ответа:\n",
    "1. 2014\n",
    "2. 2008\n",
    "3. 2012\n",
    "4. 2002\n",
    "5. 2015"
   ]
  },
  {
   "cell_type": "code",
   "execution_count": 117,
   "metadata": {},
   "outputs": [],
   "source": [
    "data.groupby(['release_year'])['profit'].sum().sort_values(ascending = False)\n",
    "answer_ls.append(5)"
   ]
  },
  {
   "cell_type": "markdown",
   "metadata": {},
   "source": [
    "# 26. Какой Самый прибыльный год для студии Warner Bros?\n",
    "Варианты ответа:\n",
    "1. 2014\n",
    "2. 2008\n",
    "3. 2012\n",
    "4. 2010\n",
    "5. 2015"
   ]
  },
  {
   "cell_type": "code",
   "execution_count": 119,
   "metadata": {},
   "outputs": [],
   "source": [
    "data_WB = data[data['production_companies'].str.contains('Warner Bros')].reset_index()\n",
    "data_WB.groupby(['release_year'])['profit'].sum().sort_values(ascending = False)\n",
    "answer_ls.append(1)"
   ]
  },
  {
   "cell_type": "markdown",
   "metadata": {},
   "source": [
    "# 27. В каком месяце за все годы суммарно вышло больше всего фильмов?\n",
    "Варианты ответа:\n",
    "1. Январь\n",
    "2. Июнь\n",
    "3. Декабрь\n",
    "4. Сентябрь\n",
    "5. Май"
   ]
  },
  {
   "cell_type": "code",
   "execution_count": 122,
   "metadata": {},
   "outputs": [],
   "source": [
    "data['release_month'] = 9999\n",
    "for i in range(0, len(data),1):\n",
    "    data['release_month'].loc[i] = int(data['release_date'].loc[i].split('/')[0])\n",
    "data.groupby(['release_month'])['original_title'].count().sort_values(ascending = False)\n",
    "answer_ls.append(4)"
   ]
  },
  {
   "cell_type": "markdown",
   "metadata": {},
   "source": [
    "# 28. Сколько суммарно вышло фильмов летом? (за июнь, июль, август)\n",
    "Варианты ответа:\n",
    "1. 345\n",
    "2. 450\n",
    "3. 478\n",
    "4. 523\n",
    "5. 381"
   ]
  },
  {
   "cell_type": "code",
   "execution_count": 124,
   "metadata": {},
   "outputs": [],
   "source": [
    "data.query('release_month in [6,7,8]')['original_title'].count()\n",
    "answer_ls.append(2)"
   ]
  },
  {
   "cell_type": "markdown",
   "metadata": {},
   "source": [
    "# 29. Какой режисер выпускает (суммарно по годам) больше всего фильмов зимой?\n",
    "Варианты ответов:\n",
    "1. Steven Soderbergh\n",
    "2. Christopher Nolan\n",
    "3. Clint Eastwood\n",
    "4. Ridley Scott\n",
    "5. Peter Jackson"
   ]
  },
  {
   "cell_type": "code",
   "execution_count": 126,
   "metadata": {},
   "outputs": [],
   "source": [
    "winter_film = data.query('release_month in [12,1,2]').reset_index()\n",
    "dirs_dict = {}\n",
    "for i in range(0,len(winter_film),1):\n",
    "    film_dir = winter_film['director'].loc[i].split('|')\n",
    "    for every_dir in film_dir:\n",
    "        if every_dir in dirs_dict:\n",
    "            dirs_dict[every_dir] += 1\n",
    "        else:\n",
    "            dirs_dict[every_dir] = 1\n",
    "max_search(dirs_dict)\n",
    "answer_ls.append(5)"
   ]
  },
  {
   "cell_type": "markdown",
   "metadata": {},
   "source": [
    "# 30. Какой месяц чаще всего по годам самый прибыльный?\n",
    "#Варианты ответа:\n",
    "1. Январь\n",
    "2. Июнь\n",
    "3. Декабрь\n",
    "4. Сентябрь\n",
    "5. Май"
   ]
  },
  {
   "cell_type": "code",
   "execution_count": 129,
   "metadata": {
    "scrolled": true
   },
   "outputs": [],
   "source": [
    "month_profit = data.pivot_table(values = 'profit', index = 'release_month', columns = 'release_year', aggfunc = 'sum')\n",
    "month_profit.idxmax().value_counts()\n",
    "answer_ls.append(2)"
   ]
  },
  {
   "cell_type": "markdown",
   "metadata": {},
   "source": [
    "# 31. Названия фильмов какой студии в среднем самые длинные по количеству символов?\n",
    "Варианты ответа:\n",
    "1. Universal Pictures (Universal)\n",
    "2. Warner Bros\n",
    "3. Jim Henson Company, The\n",
    "4. Paramount Pictures\n",
    "5. Four By Two Productions"
   ]
  },
  {
   "cell_type": "code",
   "execution_count": 132,
   "metadata": {},
   "outputs": [],
   "source": [
    "data['simbol_count'] = data.original_title.str.len()\n",
    "pc_dict = {}\n",
    "for i in range(0,len(data),1):\n",
    "    film_pc = data['production_companies'].loc[i].split('|')\n",
    "    for every_pc in film_pc:\n",
    "        pc_dict[every_pc] =0\n",
    "for pc in pc_dict:\n",
    "    pc_dict[pc] = data[data['production_companies'].str.contains(pc)].simbol_count.mean()\n",
    "\n",
    "max_search(pc_dict)\n",
    "answer_ls.append(5)"
   ]
  },
  {
   "cell_type": "markdown",
   "metadata": {},
   "source": [
    "# 32. Названия фильмов какой студии в среднем самые длинные по количеству слов?\n",
    "Варианты ответа:\n",
    "1. Universal Pictures (Universal)\n",
    "2. Warner Bros\n",
    "3. Jim Henson Company, The\n",
    "4. Paramount Pictures\n",
    "5. Four By Two Productions"
   ]
  },
  {
   "cell_type": "code",
   "execution_count": 134,
   "metadata": {},
   "outputs": [],
   "source": [
    "data['simbol_w_count'] = data.original_title.str.split(' ')\n",
    "data['w_count'] = 9999\n",
    "pc_dict = {}\n",
    "for i in range(0,len(data),1):\n",
    "    film_pc = data['production_companies'].loc[i].split('|')\n",
    "    data['w_count'].loc[i] = len(data.simbol_w_count.loc[i])\n",
    "    for every_pc in film_pc:\n",
    "        pc_dict[every_pc] =0\n",
    "for pc in pc_dict:\n",
    "    pc_dict[pc] = data[data['production_companies'].str.contains(pc)].w_count.mean()\n",
    "\n",
    "max_search(pc_dict)\n",
    "answer_ls.append(5)"
   ]
  },
  {
   "cell_type": "markdown",
   "metadata": {},
   "source": [
    "# 33. Сколько разных слов используется в названиях фильмов?(без учета регистра)\n",
    "Варианты ответа:\n",
    "1. 6540\n",
    "2. 1002\n",
    "3. 2461\n",
    "4. 28304\n",
    "5. 3432"
   ]
  },
  {
   "cell_type": "code",
   "execution_count": 137,
   "metadata": {},
   "outputs": [
    {
     "name": "stdout",
     "output_type": "stream",
     "text": [
      "2461\n"
     ]
    }
   ],
   "source": [
    "#data['word_list'] = data.original_title.str.lower().str.replace('  ', ' ').str.replace(' - ', ' ').str.replace(\"'\", ' ').str.replace('1', '').str.replace('2', '').str.replace('3', '').str.replace('4', '').str.replace('5', '').str.replace('6', '').str.replace('7', '').str.replace('8', '').str.replace('9', '').str.replace('0', '').str.replace('!', '').str.replace('/', ' ').str.replace(':', '').str.replace(';', '').str.replace('.', '').str.replace(',', '').str.replace('(', '').str.replace(')', '').str.split(' ')\n",
    "data['word_list'] = data.original_title.str.lower().str.replace('  ', ' ').str.split(' ')\n",
    "word_list = []\n",
    "for i in range(0,len(data)):\n",
    "    film_word_list = data['word_list'].loc[i] \n",
    "    for word in film_word_list:\n",
    "        if word not in word_list:\n",
    "            word_list.append(word)\n",
    "print (len(word_list))\n",
    "answer_ls.append(3)"
   ]
  },
  {
   "cell_type": "markdown",
   "metadata": {},
   "source": [
    "# 34. Какие фильмы входят в 1 процент лучших по рейтингу?\n",
    "Варианты ответа:\n",
    "1. Inside Out, Gone Girl, 12 Years a Slave\n",
    "2. BloodRayne, The Adventures of Rocky & Bullwinkle\n",
    "3. The Lord of the Rings: The Return of the King\n",
    "4. 300, Lucky Number Slevin"
   ]
  },
  {
   "cell_type": "code",
   "execution_count": 138,
   "metadata": {},
   "outputs": [],
   "source": [
    "procent_1 = data['vote_average'].count()/100\n",
    "data.sort_values(['vote_average'], ascending=False).head(19)\n",
    "answer_ls.append(1)"
   ]
  },
  {
   "cell_type": "markdown",
   "metadata": {},
   "source": [
    "# 35. Какие актеры чаще всего снимаются в одном фильме вместе\n",
    "Варианты ответа:\n",
    "1. Johnny Depp & Helena Bonham Carter\n",
    "2. Hugh Jackman & Ian McKellen\n",
    "3. Vin Diesel & Paul Walker\n",
    "4. Adam Sandler & Kevin James\n",
    "5. Daniel Radcliffe & Rupert Grint"
   ]
  },
  {
   "cell_type": "code",
   "execution_count": 139,
   "metadata": {},
   "outputs": [],
   "source": [
    "from itertools import combinations\n",
    "actors_pair = {}\n",
    "for actor in data.cast:\n",
    "    for x in combinations(actor.split('|'), 2):\n",
    "        sort_x = str(sorted(x))\n",
    "        if sort_x in actors_pair:\n",
    "            actors_pair[sort_x] +=1\n",
    "        else:\n",
    "            actors_pair[sort_x] =1\n",
    "max_search(actors_pair)\n",
    "answer_ls.append(5)"
   ]
  },
  {
   "cell_type": "markdown",
   "metadata": {},
   "source": [
    "# 36. У какого из режиссеров выше вероятность выпустить фильм в прибыли? (5 баллов)101\n",
    "Варианты ответа:\n",
    "1. Quentin Tarantino\n",
    "2. Steven Soderbergh\n",
    "3. Robert Rodriguez\n",
    "4. Christopher Nolan\n",
    "5. Clint Eastwood"
   ]
  },
  {
   "cell_type": "code",
   "execution_count": null,
   "metadata": {},
   "outputs": [],
   "source": [
    "#answer_ls.append(1)"
   ]
  },
  {
   "cell_type": "markdown",
   "metadata": {},
   "source": [
    "# Submission"
   ]
  },
  {
   "cell_type": "code",
   "execution_count": 140,
   "metadata": {},
   "outputs": [
    {
     "data": {
      "text/plain": [
       "35"
      ]
     },
     "execution_count": 140,
     "metadata": {},
     "output_type": "execute_result"
    }
   ],
   "source": [
    "len(answer_ls)"
   ]
  },
  {
   "cell_type": "code",
   "execution_count": 141,
   "metadata": {},
   "outputs": [
    {
     "data": {
      "text/html": [
       "<div>\n",
       "<style scoped>\n",
       "    .dataframe tbody tr th:only-of-type {\n",
       "        vertical-align: middle;\n",
       "    }\n",
       "\n",
       "    .dataframe tbody tr th {\n",
       "        vertical-align: top;\n",
       "    }\n",
       "\n",
       "    .dataframe thead th {\n",
       "        text-align: right;\n",
       "    }\n",
       "</style>\n",
       "<table border=\"1\" class=\"dataframe\">\n",
       "  <thead>\n",
       "    <tr style=\"text-align: right;\">\n",
       "      <th></th>\n",
       "      <th>Id</th>\n",
       "      <th>Answer</th>\n",
       "    </tr>\n",
       "  </thead>\n",
       "  <tbody>\n",
       "    <tr>\n",
       "      <td>0</td>\n",
       "      <td>1</td>\n",
       "      <td>4</td>\n",
       "    </tr>\n",
       "    <tr>\n",
       "      <td>1</td>\n",
       "      <td>2</td>\n",
       "      <td>2</td>\n",
       "    </tr>\n",
       "    <tr>\n",
       "      <td>2</td>\n",
       "      <td>3</td>\n",
       "      <td>3</td>\n",
       "    </tr>\n",
       "    <tr>\n",
       "      <td>3</td>\n",
       "      <td>4</td>\n",
       "      <td>2</td>\n",
       "    </tr>\n",
       "    <tr>\n",
       "      <td>4</td>\n",
       "      <td>5</td>\n",
       "      <td>1</td>\n",
       "    </tr>\n",
       "    <tr>\n",
       "      <td>5</td>\n",
       "      <td>6</td>\n",
       "      <td>5</td>\n",
       "    </tr>\n",
       "    <tr>\n",
       "      <td>6</td>\n",
       "      <td>7</td>\n",
       "      <td>2</td>\n",
       "    </tr>\n",
       "    <tr>\n",
       "      <td>7</td>\n",
       "      <td>8</td>\n",
       "      <td>1</td>\n",
       "    </tr>\n",
       "    <tr>\n",
       "      <td>8</td>\n",
       "      <td>9</td>\n",
       "      <td>4</td>\n",
       "    </tr>\n",
       "    <tr>\n",
       "      <td>9</td>\n",
       "      <td>10</td>\n",
       "      <td>5</td>\n",
       "    </tr>\n",
       "    <tr>\n",
       "      <td>10</td>\n",
       "      <td>11</td>\n",
       "      <td>3</td>\n",
       "    </tr>\n",
       "    <tr>\n",
       "      <td>11</td>\n",
       "      <td>12</td>\n",
       "      <td>1</td>\n",
       "    </tr>\n",
       "    <tr>\n",
       "      <td>12</td>\n",
       "      <td>13</td>\n",
       "      <td>3</td>\n",
       "    </tr>\n",
       "    <tr>\n",
       "      <td>13</td>\n",
       "      <td>14</td>\n",
       "      <td>4</td>\n",
       "    </tr>\n",
       "    <tr>\n",
       "      <td>14</td>\n",
       "      <td>15</td>\n",
       "      <td>5</td>\n",
       "    </tr>\n",
       "    <tr>\n",
       "      <td>15</td>\n",
       "      <td>16</td>\n",
       "      <td>1</td>\n",
       "    </tr>\n",
       "    <tr>\n",
       "      <td>16</td>\n",
       "      <td>17</td>\n",
       "      <td>3</td>\n",
       "    </tr>\n",
       "    <tr>\n",
       "      <td>17</td>\n",
       "      <td>18</td>\n",
       "      <td>3</td>\n",
       "    </tr>\n",
       "    <tr>\n",
       "      <td>18</td>\n",
       "      <td>19</td>\n",
       "      <td>2</td>\n",
       "    </tr>\n",
       "    <tr>\n",
       "      <td>19</td>\n",
       "      <td>20</td>\n",
       "      <td>1</td>\n",
       "    </tr>\n",
       "    <tr>\n",
       "      <td>20</td>\n",
       "      <td>21</td>\n",
       "      <td>4</td>\n",
       "    </tr>\n",
       "    <tr>\n",
       "      <td>21</td>\n",
       "      <td>22</td>\n",
       "      <td>2</td>\n",
       "    </tr>\n",
       "    <tr>\n",
       "      <td>22</td>\n",
       "      <td>23</td>\n",
       "      <td>3</td>\n",
       "    </tr>\n",
       "    <tr>\n",
       "      <td>23</td>\n",
       "      <td>24</td>\n",
       "      <td>1</td>\n",
       "    </tr>\n",
       "    <tr>\n",
       "      <td>24</td>\n",
       "      <td>25</td>\n",
       "      <td>5</td>\n",
       "    </tr>\n",
       "    <tr>\n",
       "      <td>25</td>\n",
       "      <td>26</td>\n",
       "      <td>1</td>\n",
       "    </tr>\n",
       "    <tr>\n",
       "      <td>26</td>\n",
       "      <td>27</td>\n",
       "      <td>4</td>\n",
       "    </tr>\n",
       "    <tr>\n",
       "      <td>27</td>\n",
       "      <td>28</td>\n",
       "      <td>2</td>\n",
       "    </tr>\n",
       "    <tr>\n",
       "      <td>28</td>\n",
       "      <td>29</td>\n",
       "      <td>5</td>\n",
       "    </tr>\n",
       "    <tr>\n",
       "      <td>29</td>\n",
       "      <td>30</td>\n",
       "      <td>2</td>\n",
       "    </tr>\n",
       "    <tr>\n",
       "      <td>30</td>\n",
       "      <td>31</td>\n",
       "      <td>5</td>\n",
       "    </tr>\n",
       "    <tr>\n",
       "      <td>31</td>\n",
       "      <td>32</td>\n",
       "      <td>5</td>\n",
       "    </tr>\n",
       "    <tr>\n",
       "      <td>32</td>\n",
       "      <td>33</td>\n",
       "      <td>3</td>\n",
       "    </tr>\n",
       "    <tr>\n",
       "      <td>33</td>\n",
       "      <td>34</td>\n",
       "      <td>1</td>\n",
       "    </tr>\n",
       "    <tr>\n",
       "      <td>34</td>\n",
       "      <td>35</td>\n",
       "      <td>5</td>\n",
       "    </tr>\n",
       "  </tbody>\n",
       "</table>\n",
       "</div>"
      ],
      "text/plain": [
       "    Id  Answer\n",
       "0    1       4\n",
       "1    2       2\n",
       "2    3       3\n",
       "3    4       2\n",
       "4    5       1\n",
       "5    6       5\n",
       "6    7       2\n",
       "7    8       1\n",
       "8    9       4\n",
       "9   10       5\n",
       "10  11       3\n",
       "11  12       1\n",
       "12  13       3\n",
       "13  14       4\n",
       "14  15       5\n",
       "15  16       1\n",
       "16  17       3\n",
       "17  18       3\n",
       "18  19       2\n",
       "19  20       1\n",
       "20  21       4\n",
       "21  22       2\n",
       "22  23       3\n",
       "23  24       1\n",
       "24  25       5\n",
       "25  26       1\n",
       "26  27       4\n",
       "27  28       2\n",
       "28  29       5\n",
       "29  30       2\n",
       "30  31       5\n",
       "31  32       5\n",
       "32  33       3\n",
       "33  34       1\n",
       "34  35       5"
      ]
     },
     "execution_count": 141,
     "metadata": {},
     "output_type": "execute_result"
    }
   ],
   "source": [
    "pd.DataFrame({'Id':range(1,len(answer_ls)+1), 'Answer':answer_ls}, columns=['Id', 'Answer'])"
   ]
  },
  {
   "cell_type": "code",
   "execution_count": null,
   "metadata": {},
   "outputs": [],
   "source": []
  }
 ],
 "metadata": {
  "kernelspec": {
   "display_name": "Python 3",
   "language": "python",
   "name": "python3"
  },
  "language_info": {
   "codemirror_mode": {
    "name": "ipython",
    "version": 3
   },
   "file_extension": ".py",
   "mimetype": "text/x-python",
   "name": "python",
   "nbconvert_exporter": "python",
   "pygments_lexer": "ipython3",
   "version": "3.7.4"
  }
 },
 "nbformat": 4,
 "nbformat_minor": 4
}
